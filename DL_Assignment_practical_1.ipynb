{
  "nbformat": 4,
  "nbformat_minor": 0,
  "metadata": {
    "colab": {
      "provenance": []
    },
    "kernelspec": {
      "name": "python3",
      "display_name": "Python 3"
    },
    "language_info": {
      "name": "python"
    }
  },
  "cells": [
    {
      "cell_type": "markdown",
      "source": [
        "Objective: - Predict Next Sequence\n",
        "To start with deep learning, the very basic project that you can build is to predict the next digit in a sequence.\n",
        "Dataset: - Create a sequence like a list of odd numbers and then build a model and train it to predict the next digit in the sequence.\n",
        "\n",
        "Task: - A simple neural network with 2 layers would be sufficient to build the model.\n",
        "\n",
        "Assignment Submission: - Only submit the Google Colab/Github link.(Make the Link Public)."
      ],
      "metadata": {
        "id": "8bavfzo3I-Pa"
      }
    },
    {
      "cell_type": "markdown",
      "source": [
        "### Deep learning, the very basic project to build that can predict the next digit in a sequence by using LSTM"
      ],
      "metadata": {
        "id": "rSIn4aEyJCj-"
      }
    },
    {
      "cell_type": "code",
      "execution_count": 4,
      "metadata": {
        "colab": {
          "base_uri": "https://localhost:8080/"
        },
        "id": "j83zHSPAGZj2",
        "outputId": "d53bb350-e7a2-468c-d6da-12c839001451"
      },
      "outputs": [
        {
          "output_type": "stream",
          "name": "stdout",
          "text": [
            "[[11.709278]]\n"
          ]
        }
      ],
      "source": [
        "import numpy as np\n",
        "import tensorflow as tf\n",
        "from tensorflow.keras.layers import LSTM, Dense\n",
        "\n",
        "# Define the sequence\n",
        "sequence = np.array([0, 1, 2, 3, 4, 5, 6, 7, 8, 9])\n",
        "\n",
        "# Define the number of time steps to use for prediction\n",
        "n_steps = 3\n",
        "\n",
        "# Split the sequence into input and output pairs\n",
        "X, y = [], []\n",
        "for i in range(len(sequence)-n_steps):\n",
        "    X.append(sequence[i:i+n_steps])\n",
        "    y.append(sequence[i+n_steps])\n",
        "\n",
        "# Convert the y data to a NumPy array\n",
        "y = np.array(y)\n",
        "\n",
        "# Reshape the input data to fit the LSTM model\n",
        "X = np.array(X).reshape(len(X), n_steps, 1)\n",
        "\n",
        "# Define the LSTM model\n",
        "model = tf.keras.Sequential([\n",
        "    LSTM(50, activation='relu', input_shape=(n_steps, 1)),\n",
        "    Dense(1)\n",
        "])\n",
        "\n",
        "# Compile the model\n",
        "model.compile(optimizer='adam', loss='mse')\n",
        "\n",
        "# Train the model\n",
        "model.fit(X, y, epochs=200, verbose=0)\n",
        "\n",
        "# Predict the next digit in the sequence\n",
        "test_input = np.array([7, 8, 9]).reshape(1, n_steps, 1)\n",
        "prediction = model.predict(test_input, verbose=0)\n",
        "print(prediction)\n"
      ]
    }
  ]
}